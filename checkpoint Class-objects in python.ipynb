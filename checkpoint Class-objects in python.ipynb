{
 "cells": [
  {
   "cell_type": "code",
   "execution_count": 1,
   "id": "691ccb75",
   "metadata": {},
   "outputs": [
    {
     "name": "stdout",
     "output_type": "stream",
     "text": [
      "(1, 2, 3)\n"
     ]
    }
   ],
   "source": [
    "class Point3D:\n",
    "    def __init__(self, x, y, z):\n",
    "        self.x = x\n",
    "        self.y = y\n",
    "        self.z = z\n",
    "        \n",
    "    def __repr__(self):\n",
    "        return f\"({self.x}, {self.y}, {self.z})\"\n",
    "\n",
    "my_point = Point3D(1, 2, 3)\n",
    "print(my_point)"
   ]
  },
  {
   "cell_type": "code",
   "execution_count": 2,
   "id": "68e82594",
   "metadata": {},
   "outputs": [
    {
     "name": "stdout",
     "output_type": "stream",
     "text": [
      "Area: 12\n",
      "Perimeter: 14\n"
     ]
    }
   ],
   "source": [
    "class Rectangle:\n",
    "    def __init__(self, length, width):\n",
    "        self.length = length\n",
    "        self.width = width\n",
    "        \n",
    "    def area(self):\n",
    "        return self.length * self.width\n",
    "    \n",
    "    def perimeter(self):\n",
    "        return 2 * (self.length + self.width)\n",
    "\n",
    "my_rectangle = Rectangle(3, 4)\n",
    "print(\"Area:\", my_rectangle.area())\n",
    "print(\"Perimeter:\", my_rectangle.perimeter())"
   ]
  },
  {
   "cell_type": "code",
   "execution_count": 3,
   "id": "7ffab3a2",
   "metadata": {},
   "outputs": [
    {
     "name": "stdout",
     "output_type": "stream",
     "text": [
      "Area: 3.141592653589793\n",
      "Perimeter: 6.283185307179586\n",
      "Point (0.5, 0.5) is inside the circle: True\n"
     ]
    }
   ],
   "source": [
    "import math\n",
    "\n",
    "class Circle:\n",
    "    def __init__(self, center_x, center_y, radius):\n",
    "        self.center_x = center_x\n",
    "        self.center_y = center_y\n",
    "        self.radius = radius\n",
    "        \n",
    "    def area(self):\n",
    "        return math.pi * self.radius ** 2\n",
    "    \n",
    "    def perimeter(self):\n",
    "        return 2 * math.pi * self.radius\n",
    "    \n",
    "    def is_inside(self, x, y):\n",
    "        distance = math.sqrt((x - self.center_x) ** 2 + (y - self.center_y) ** 2)\n",
    "        return distance <= self.radius\n",
    "\n",
    "my_circle = Circle(0, 0, 1)\n",
    "print(\"Area:\", my_circle.area())\n",
    "print(\"Perimeter:\", my_circle.perimeter())\n",
    "print(\"Point (0.5, 0.5) is inside the circle:\", my_circle.is_inside(0.5, 0.5))\n"
   ]
  },
  {
   "cell_type": "code",
   "execution_count": 4,
   "id": "d87a827a",
   "metadata": {},
   "outputs": [
    {
     "name": "stdout",
     "output_type": "stream",
     "text": [
      "Balance after deposit: 1500\n",
      "Balance after withdrawal: 0\n"
     ]
    }
   ],
   "source": [
    "class Bank:\n",
    "    def __init__(self, balance):\n",
    "        self.balance = balance\n",
    "        \n",
    "    def deposit(self, amount):\n",
    "        self.balance += amount\n",
    "        return self.balance\n",
    "    \n",
    "    def withdraw(self, amount):\n",
    "        if self.balance >= amount:\n",
    "            self.balance -= amount\n",
    "            return self.balance\n",
    "        else:\n",
    "            return \"Insufficient balance\"\n",
    "\n",
    "my_account = Bank(1000)\n",
    "print(\"Balance after deposit:\", my_account.deposit(500))\n",
    "print(\"Balance after withdrawal:\", my_account.withdraw(1500))"
   ]
  },
  {
   "cell_type": "code",
   "execution_count": null,
   "id": "946fcb1d",
   "metadata": {},
   "outputs": [],
   "source": []
  }
 ],
 "metadata": {
  "kernelspec": {
   "display_name": "Python 3 (ipykernel)",
   "language": "python",
   "name": "python3"
  },
  "language_info": {
   "codemirror_mode": {
    "name": "ipython",
    "version": 3
   },
   "file_extension": ".py",
   "mimetype": "text/x-python",
   "name": "python",
   "nbconvert_exporter": "python",
   "pygments_lexer": "ipython3",
   "version": "3.9.13"
  }
 },
 "nbformat": 4,
 "nbformat_minor": 5
}
